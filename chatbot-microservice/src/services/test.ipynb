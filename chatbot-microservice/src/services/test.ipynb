{
 "cells": [
  {
   "cell_type": "markdown",
   "metadata": {
    "vscode": {
     "languageId": "plaintext"
    }
   },
   "source": [
    "- #### dependencies"
   ]
  },
  {
   "cell_type": "code",
   "execution_count": 27,
   "metadata": {},
   "outputs": [
    {
     "name": "stdout",
     "output_type": "stream",
     "text": [
      "**Feature Map for Alex Morgan**\n",
      "\n",
      "**Personal Details:**\n",
      "\n",
      "* Name: Alex Morgan\n",
      "* Contact Information:\n",
      "\t+ Email: [Alex.Kaunas@alexdigital.com](mailto:Alex.Kaunas@alexdigital.com)\n",
      "\t+ Phone Number: +37064725657\n",
      "* Location: Kaunas, Lithuania\n",
      "* Age: 32\n",
      "\n",
      "**Professional Expertise:**\n",
      "\n",
      "* Field: Software Development\n",
      "* Domain: Web and Mobile Applications\n",
      "* Main Functions:\n",
      "\t+ Building user-friendly web applications\n",
      "\t+ Developing custom software solutions\n",
      "\t+ Creating mobile applications\n",
      "\t+ Collaborating with clients to understand their needs\n",
      "* Technical Skills:\n",
      "\t+ JavaScript (React, Node.js)\n",
      "\t+ Python (Django, Flask)\n",
      "\t+ HTML/CSS\n",
      "\t+ SQL databases\n",
      "\t+ Version control systems (Git)\n",
      "\t+ CMS platforms (WordPress)\n",
      "* Soft Skills:\n",
      "\t+ Strong communication and collaboration skills\n",
      "\t+ Ability to work in a team environment\n",
      "\t+ Adaptable and creative problem-solving\n",
      "\n",
      "**Communication Style:**\n",
      "\n",
      "* Tone: Friendly, approachable, and professional\n",
      "* Personality Traits: Collaborative, creative, adaptable\n",
      "* Slang: None notable\n",
      "* General Vibe: Positive, enthusiastic, and solution-focused\n",
      "\n",
      "**Goals and Tasks:**\n",
      "\n",
      "* Deliver high-quality software solutions that meet client needs\n",
      "* Build long-term relationships with clients through effective communication and collaboration\n",
      "* Stay up-to-date with the latest industry trends and technologies"
     ]
    }
   ],
   "source": [
    "import ollama\n",
    "\n",
    "user_input = '''I’m Alex Morgan, a 32-year-old freelance software developer from Kaunas, Lithuania, specializing in building user-friendly \n",
    "web and mobile applications. I have a solid background in computer science and over a decade of experience in web \n",
    "development. My passion lies in creating custom software solutions that bring real value to my clients, from simple \n",
    "websites to complex systems tailored to their unique needs. My tech stack primarily includes JavaScript (React, Node.js), \n",
    "Python (Django, Flask), and I’m proficient with HTML/CSS, SQL databases, and version control systems like Git. I’m also \n",
    "comfortable working with CMS platforms such as WordPress and developing APIs.\n",
    "My Work Approach\n",
    "Collaboration is key for me—I make it a priority to fully understand client requirements and keep communication open \n",
    "throughout every project phase. I take pride in delivering high-quality solutions on time and within budget. Here are \n",
    "a few examples of typical interactions with clients:\n",
    "Client: “Hey Alex, we need to add a feature that allows users to filter search results by category. Can you help with this?”\n",
    "Me: “Absolutely! That sounds like a great addition. I’d recommend adding a dropdown filter that dynamically updates the \n",
    "results as the user selects categories. Would you like me to provide an estimate and timeline for implementation?”\n",
    "Client: “I’m having an issue with the mobile responsiveness of our landing page. It looks fine on desktop, but it’s broken on mobile.”\n",
    "Me: “Got it, thanks for letting me know. I’ll check the CSS media queries and any potential flexbox issues. I’ll have a fix \n",
    "and an updated preview for you within a few hours!”\n",
    "Soft Skills & Personal Interests\n",
    "I’m a strong communicator who thrives in collaborative environments. Whether working with other developers or directly \n",
    "with clients, I prioritize clear and frequent communication to keep everyone aligned. In my spare time, I’m an avid hiker \n",
    "and love capturing wildlife through my camera lens. This connection with nature often sparks new ideas and creativity in my \n",
    "work. I also enjoy participating in local tech meetups and workshops to stay on top of the latest industry trends and share knowledge.\n",
    "My Personality\n",
    "I’m approachable, creative, and adaptable to any situation—qualities that my clients often mention they appreciate. I love \n",
    "solving complex problems and finding unique solutions, and I’m always ready to dive into a new challenge, whether it's a \n",
    "small tweak to a website or a large-scale software project.\n",
    "My email address is Alex.Kaunas@alexdigital.com and phone number is +37064725657\n",
    "Feel free to reach out if you think we can create something amazing together!'''\n",
    "\n",
    "stream = ollama.chat(\n",
    "    model='llama3.2',\n",
    "    stream=True,\n",
    "    messages=[\n",
    "        {\n",
    "        'role': 'system',\n",
    "        'content': '''you will be provided with data about a persons work field, \n",
    "        domain and other work information, personal traits, main functions, hobbies, \n",
    "        dislikes, tone of chatting and other similar features. by referencing this \n",
    "        information, you have to make a feature map of this user so it can be used for creating\n",
    "        a digital clone for task automation and communication with clients. do not output any\n",
    "        additive information and only display features divided into these three groups: \n",
    "        all main personal details such as name, contact information, location, etc.;\n",
    "        professional expertise, soft and technical skills, field, domain and main functions;\n",
    "        communication style, personality traits, tone, slang and general vibe; main tasks or\n",
    "        goals that are wanted to be achieved by using this application.'''\n",
    "        },\n",
    "        {\n",
    "        'role': 'user',\n",
    "        'content': user_input,\n",
    "        }\n",
    "    ])\n",
    "\n",
    "for chunk in stream:\n",
    "    print(chunk['message']['content'], end='', flush=True)\n",
    "\n",
    "# response = ollama.chat(\n",
    "#     model='llama3.2',\n",
    "#     messages=[\n",
    "#         {\n",
    "#         'role': 'user',\n",
    "#         'content': 'hey, say hey',\n",
    "#         }\n",
    "#     ])\n",
    "\n",
    "# print(response['message']['content'])\n"
   ]
  },
  {
   "cell_type": "markdown",
   "metadata": {},
   "source": [
    "- #### conversation"
   ]
  },
  {
   "cell_type": "code",
   "execution_count": 36,
   "metadata": {},
   "outputs": [
    {
     "name": "stdout",
     "output_type": "stream",
     "text": [
      "**Feature Map for Alex Morgan**\n",
      "\n",
      "**Personal Details:**\n",
      "\n",
      "* Name: Alex Morgan\n",
      "* Contact Information:\n",
      "\t+ Email: [Alex.Kaunas@alexdigital.com](mailto:Alex.Kaunas@alexdigital.com)\n",
      "\t+ Phone Number: +37064725657\n",
      "* Location: Kaunas, Lithuania\n",
      "* Age: 32\n",
      "\n",
      "**Professional Expertise:**\n",
      "\n",
      "* Field: Software Development\n",
      "* Domain: Web and Mobile Applications\n",
      "* Main Functions:\n",
      "\t+ Building user-friendly web applications\n",
      "\t+ Developing custom software solutions\n",
      "\t+ Creating mobile applications\n",
      "\t+ Collaborating with clients to understand their needs\n",
      "* Technical Skills:\n",
      "\t+ JavaScript (React, Node.js)\n",
      "\t+ Python (Django, Flask)\n",
      "\t+ HTML/CSS\n",
      "\t+ SQL databases\n",
      "\t+ Version control systems (Git)\n",
      "\t+ CMS platforms (WordPress)\n",
      "* Soft Skills:\n",
      "\t+ Strong communication and collaboration skills\n",
      "\t+ Ability to work in a team environment\n",
      "\t+ Adaptable and creative problem-solving\n",
      "\n",
      "**Communication Style:**\n",
      "\n",
      "* Tone: Friendly, approachable, and professional\n",
      "* Personality Traits: Collaborative, creative, adaptable\n",
      "* Slang: None notable\n",
      "* General Vibe: Positive, enthusiastic, and solution-focused\n",
      "\n",
      "**Goals and Tasks:**\n",
      "\n",
      "* Deliver high-quality software solutions that meet client needs\n",
      "* Build long-term relationships with clients through effective communication and collaboration\n",
      "* Stay up-to-date with the latest industry trends and technologies\n"
     ]
    }
   ],
   "source": [
    "import os\n",
    "\n",
    "data_path = os.path.abspath(\"..\\\\data\\\\features\\\\\")\n",
    "user = 'alex_morgan'\n",
    "\n",
    "data_directory = f\"{data_path}\\\\{user}.txt\"\n",
    "with open(data_directory, 'r') as file:\n",
    "    text_content = file.read()\n",
    "\n",
    "print(text_content)"
   ]
  },
  {
   "cell_type": "code",
   "execution_count": 38,
   "metadata": {},
   "outputs": [
    {
     "ename": "IndentationError",
     "evalue": "expected an indented block after function definition on line 15 (621806637.py, line 16)",
     "output_type": "error",
     "traceback": [
      "\u001b[1;36m  Cell \u001b[1;32mIn[38], line 16\u001b[1;36m\u001b[0m\n\u001b[1;33m    stream = ollama.chat(\u001b[0m\n\u001b[1;37m    ^\u001b[0m\n\u001b[1;31mIndentationError\u001b[0m\u001b[1;31m:\u001b[0m expected an indented block after function definition on line 15\n"
     ]
    }
   ],
   "source": [
    "import os\n",
    "import ollama\n",
    "\n",
    "def get_feature_map(filename):\n",
    "    data_path = os.path.abspath(\"..\\\\data\\\\features\\\\\")\n",
    "    file_name = filename\n",
    "\n",
    "    data_directory = f\"{data_path}\\\\{user}.txt\"\n",
    "    with open(data_directory, 'r') as file:\n",
    "        text_content = file.read()\n",
    "    \n",
    "    return(text_content)\n",
    "\n",
    "\n",
    "def conversation(messages, message):\n",
    "stream = ollama.chat(\n",
    "    model='llama3.2',\n",
    "    stream=True,\n",
    "    messages=[\n",
    "        {\n",
    "        'role': 'system',\n",
    "        'content': '''you will be provided with data about a persons work field, \n",
    "        domain and other work information, personal traits, main functions, hobbies, \n",
    "        dislikes, tone of chatting and other similar features. by referencing this \n",
    "        information, you have to make a feature map of this user so it can be used for creating\n",
    "        a digital clone for task automation and communication with clients. do not output any\n",
    "        additive information and only display features divided into these three groups: \n",
    "        all main personal details such as name, contact information, location, etc.;\n",
    "        professional expertise, soft and technical skills, field, domain and main functions;\n",
    "        communication style, personality traits, tone, slang and general vibe; main tasks or\n",
    "        goals that are wanted to be achieved by using this application.'''\n",
    "        },\n",
    "        {\n",
    "        'role': 'user',\n",
    "        'content': 'test',\n",
    "        }\n",
    "    ])\n",
    "\n",
    "features = get_feature_map('alex_morgan')\n",
    "\n",
    "print(features)\n",
    "\n",
    "# msg = []\n",
    "\n",
    "# user_input = input(\"Enter your message: \")\n",
    "\n",
    "# for chunk in stream:\n",
    "#     print(chunk['message']['content'], end='', flush=True)\n",
    "\n"
   ]
  },
  {
   "cell_type": "markdown",
   "metadata": {},
   "source": [
    "```python\n",
    "you will be provided with data about a persons work field, domain and other work information, personal traits, main functions, hobbies, dislikes, tone of chatting and other similar features. reference all of this information and output condensed output of main persons traits, functions and other general features. point out main features, so it could be used for ai model training and creating a digital clone of the person whose data is provided.\n",
    "```"
   ]
  },
  {
   "cell_type": "markdown",
   "metadata": {},
   "source": [
    "```python\n",
    "you will be provided a brief description of a person including its domain information and other work information, personal traits, hobbies, dislikes, tone of chatting and other similar features. answer to provided questions or messages regarding this information, just as the original person itself would answer. if you do not know something, dont improvize, but output I DONT KNOW in caps in conversation places you do not have concrete information about. dont make it robotic and keep a smooth conversation. ask questions only if you need some clarification on how to perform certain tasks requested by user.\n",
    "```"
   ]
  },
  {
   "cell_type": "code",
   "execution_count": null,
   "metadata": {},
   "outputs": [],
   "source": []
  },
  {
   "cell_type": "markdown",
   "metadata": {},
   "source": [
    "- #### feature_extraction"
   ]
  },
  {
   "cell_type": "code",
   "execution_count": null,
   "metadata": {},
   "outputs": [],
   "source": []
  },
  {
   "cell_type": "markdown",
   "metadata": {},
   "source": [
    "- #### feature_extraction_file"
   ]
  },
  {
   "cell_type": "code",
   "execution_count": null,
   "metadata": {},
   "outputs": [],
   "source": []
  }
 ],
 "metadata": {
  "kernelspec": {
   "display_name": "Python 3",
   "language": "python",
   "name": "python3"
  },
  "language_info": {
   "codemirror_mode": {
    "name": "ipython",
    "version": 3
   },
   "file_extension": ".py",
   "mimetype": "text/x-python",
   "name": "python",
   "nbconvert_exporter": "python",
   "pygments_lexer": "ipython3",
   "version": "3.12.4"
  }
 },
 "nbformat": 4,
 "nbformat_minor": 2
}
